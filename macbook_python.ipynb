{
  "nbformat": 4,
  "nbformat_minor": 0,
  "metadata": {
    "colab": {
      "provenance": [],
      "toc_visible": true,
      "authorship_tag": "ABX9TyMRoktHzXUZQftt1cux0uQu",
      "include_colab_link": true
    },
    "kernelspec": {
      "name": "python3",
      "display_name": "Python 3"
    },
    "language_info": {
      "name": "python"
    }
  },
  "cells": [
    {
      "cell_type": "markdown",
      "metadata": {
        "id": "view-in-github",
        "colab_type": "text"
      },
      "source": [
        "<a href=\"https://colab.research.google.com/github/mccoy0928/forExcelData/blob/main/macbook_python.ipynb\" target=\"_parent\"><img src=\"https://colab.research.google.com/assets/colab-badge.svg\" alt=\"Open In Colab\"/></a>"
      ]
    },
    {
      "cell_type": "markdown",
      "source": [
        "# 20230812 MacBook 基於python遇上module問題\n",
        "\n",
        "## 問題\n",
        "* 當你在 MacOS 中使用 pip3 install [套件] 安裝套件時 ，可能會發現 Python 找不到ｗ套件。\n",
        "![](https://i.imgur.com/HsOyXgx.png)\n",
        "\n",
        "* 你可以用 pip3 show [套件名稱] 來查看套件的安裝路徑。\n",
        "![](https://i.imgur.com/qJnj6oR.png)\n",
        "\n",
        "* 然後用 python3 -m site 查看 USER-SITE 路徑\n",
        "![](https://i.imgur.com/XD80amt.png)\n",
        "\n",
        "* 會發現執行路徑和套件路徑不同，最好的解決方法就是不要用 pip3 install，改用python3 -m pip install 和 pip3 install 兩者的功能都是用來安裝 Python 套件，但是在執行上有些微的差異。\n",
        "python3 -m pip install 和 pip3 install 兩者的功能都是用來安裝 Python 套件，但是在執行上有些微的差異。"
      ],
      "metadata": {
        "id": "uyCLuqi8Yug1"
      }
    },
    {
      "cell_type": "markdown",
      "source": [
        "# 20230812 pandas 常用操作\n",
        "\n",
        "[pandas数据处理的常用操作](https://yenslife.top/2023/03/07/Python-ModuleNotFoundError-in-MacOS/)\n",
        "\n",
        "## 引言\n",
        "\n",
        "众所周知，python的pandas库对于数据框的处理具有极其简化的强大功能，官方document中涉及的功能(function)更是有好几百个，要想做好数据处理的工作，那么你必须熟练掌握pandas中的各种操作，做到得心应手，拿来即用。本文针对我最近在处理数据的时候，掌握到的一些关于pandas的行和列操作的使用方法，我决定将它大概总结出来，分享给大家，也希望能帮助大家提升对数据处理的操作。本文的代码环境是Python3+Anaconda，推荐使用\n",
        "\n",
        "## 内容\n",
        "\n",
        "* 查看数据框\n",
        "* 列切片\n",
        "* 按列排序\n",
        "* 合并数据框\n",
        "* 分组Groupby\n",
        "* 设置结果显示限制\n",
        "* 读取写入excel"
      ],
      "metadata": {
        "id": "3kV0yXeGgjQh"
      }
    },
    {
      "cell_type": "markdown",
      "source": [
        "# 一、查看数据框的常用操作\n",
        "\n",
        "1. 查看dataframe的前n行或尾n行\n",
        "```\n",
        "df=pandas.Dataframe(columns=[],index=[],data=[]) ##创建一个Dataframe\n",
        "df.head(n=10) ## 显示前n行的数据\n",
        "df.tail(n=10) ## 显示尾n行的数据\n",
        "```\n",
        "\n",
        "2. 查看索引名，列名，values\n",
        "```\n",
        "df.index      ##返回df的行索引值，是一个array\n",
        "df.columns ##返回df的列名，是一个array\n",
        "df.values    ##返回df的所有值，是一个2D array\n",
        "```\n",
        "\n",
        "3. 查看dataframe的一些统计特性\n",
        "```\n",
        "df.describe('all') ##统计每列的min, max,mean,std,quantile\n",
        "df.dtypes  ##返回每列数据的类型\n",
        "df.T  ##转置数据框\n",
        "df.sort_index(axis=1,ascending=False) ##按索引排序所有列，升序或者降序\n",
        "```\n",
        "\n"
      ],
      "metadata": {
        "id": "CK4-Tpf3jOOK"
      }
    },
    {
      "cell_type": "markdown",
      "source": [
        "# 二、常用的列切片操作\n",
        "\n",
        "1. 取一列的所有数据\n",
        "```\n",
        "df['column_name'] ##利用列名直接取某一列\n",
        "df[df.columns[index]] ##适合于你不知道列名，但是知道它在第几列\n",
        "```\n",
        "\n",
        "2. 根据位置取行列数据df.loc\n",
        "```\n",
        "df.loc[index] ##根据行的位置，取特定行数据（列全取）\n",
        "df.loc[[index],['a','b']] ##取index行的，ab两列数据\n",
        "df.loc[[index],'a':'b'] ##取index行的，列名为'a' 到 列名为 'b'的所有列\n",
        "##总之，列不能通过索引来取数\n",
        "```\n",
        "\n",
        "3. 根据索引位置来取数df.iloc\n",
        "```\n",
        "df.iloc[0:10,0:10] ##切片后面的值取不到，即col_index=10,row_indx=10取不到\n",
        "df.iloc[[0,5,10],[1,8,10]] ##可按照需求，选择特定的行和列\n",
        "##总之iloc之内的数据都是数字，不能是行名列名\n",
        "```\n",
        "\n",
        "4. 根据条件，逻辑值索引取数\n",
        "```\n",
        "df[df.A>0] ##取出A列中大于0的数，\n",
        "df[df['A'].isin(['one','two'])] ##取出A列中包含'one','two'的数据,这个功能很强大，##可以帮助我们filter出符合条件的数据。\n",
        "```\n",
        "\n",
        "5. 给列赋值\n",
        "```\n",
        "df['A']=np.array([1]*len(df)) ##用数组给某列赋值\n",
        "df.loc[:,['a','c']]=[]  ##根据位置赋值\n",
        "##知道如何取数，就能轻松给数据框赋值啦。\n",
        "```\n",
        "\n",
        "\n",
        "\n",
        "\n",
        "\n"
      ],
      "metadata": {
        "id": "N39xTFCakClt"
      }
    },
    {
      "cell_type": "markdown",
      "source": [
        "# 三、按列排序\n",
        "```\n",
        "df.sort_values(by='column_Name',ascending=True) ##按某列升序排序\n",
        "df.sort_index(axis=1,ascending=True) ##索引排序\n",
        "```"
      ],
      "metadata": {
        "id": "iKy2mM0oQIzo"
      }
    },
    {
      "cell_type": "markdown",
      "source": [
        "# 四、合并操作\n",
        "\n",
        "1. 将数据框的行或列合并（concat）\n",
        "```\n",
        "pd.concat([df1[:],df2[:],...],axis=0) ##按列拼接数据，要求列数和列名一样\n",
        "pd.concat([df1,df2,...],axis=1）##按行拼接数据，行数和行索引相同\n",
        "##如果数据结构不一样，可以选择join=\"inner\",\"outer\",..sql中的操作\n",
        "```\n",
        "\n",
        "2. append将一行或多行数据添加\n",
        "```\n",
        "df.append(df1[:],ignore_index=True) ##将会重新设定index\n",
        "```\n",
        "\n",
        "3. 将多个dataframe整合在一起Merge\n",
        "```\n",
        "df.merge(df1,on=['column_name',...],how=inner) ##内联表，根据主键来拼接\n",
        "how=\"inner\",\"left\",\"right\",\"outer\"分别表示内连接，左连接，右连接，外连接。\n",
        "##具体如何连接，大家去温习一下sql中的表连接操作吧.\n",
        "```"
      ],
      "metadata": {
        "id": "xfoCi0n8QIf8"
      }
    },
    {
      "cell_type": "markdown",
      "source": [
        "# 五、分组操作Groupby\n",
        "\n",
        "1. Groupby for splitting 把数据分成已有的几种类别\n",
        "```\n",
        "grouped=df.groupby(key) ##将某个主键按照类别分组，默认是列主键\n",
        "grouped=df.groupby(key,axis=1) ##按照某个key分组，行操作\n",
        "grouped=df.groupby([key1,key2,...]) ##可以依次group多个key。\n",
        "grouped.groups ##返回分组的结果\n",
        "grouped.get_group('a') ## 选择其中一个分组的类别，查看该类别的数据\n",
        "```\n",
        "\n",
        "2. Groupby for aggregation 分组聚合\n",
        "```\n",
        "grouped.aggregate(np.sum) ##分组求和，常见操作\n",
        "grouped.size() ##分组统计数量\n",
        "grouped.describe() ##分组查看描述统计结果\n",
        "```\n",
        "\n",
        "3. Groupby for applying 分组求各种函数\n",
        "```\n",
        "grouped.agg([np.sum,np.std,np.mean]) ##同时求和，均值方差。\n",
        "grouped.apply(lambda x: function(x)) ##可以接上apply函数，进行自定义操作\n",
        "```\n",
        "\n",
        "4. Groupby for filtering 分组过滤数据\n",
        "```\n",
        "grouped.filter(lambda x : len(x)>2,dropna=True) ##类似这种filter操作\n",
        "##根据自己需求，都能够相应地实现。\n",
        "```\n"
      ],
      "metadata": {
        "id": "OpIihnDnP_0N"
      }
    },
    {
      "cell_type": "markdown",
      "source": [
        "# 六、设置结果显示限制\n",
        "\n",
        "很多情况下，我们查看数据操作的结果时，很多想要的行或列数据由于输出限制，而无法看到，这时，我们可以重新设置显示结果的限制条件，来获得更多想查看的数据结果。\n",
        "\n",
        "```\n",
        "pd.set_option(\"display.height\",200) ##设置显示结果的高度\n",
        "pd.set_option(\"display.max_seq_items\",200) ##设置序列显示的最大个数\n",
        "pd.set_option(\"display.max_columns\",120) ##设置数据框显示的列数\n",
        "pd.set_option(\"display.max_rows\",50) ##设置数据框显示的行数\n",
        "```\n",
        "\n"
      ],
      "metadata": {
        "id": "wjziLc4ERYVD"
      }
    },
    {
      "cell_type": "markdown",
      "source": [
        "# 七、数据框写入excel或者csv\n",
        "\n",
        "很多情况下，你的分析汇总结果需要保存到excel文件中，发给你的上司。因此这项技能你必须学会。基本的函数使用如下：\n",
        "```\n",
        "##先是读取数据\n",
        "pd.read_csv(file_path,header=,sep=',',index_col=,...) ##常用的取数据函数\n",
        "pd.read_excel(file_path,sheetName='',startcol=,startrow=,header=,...)\n",
        "##保存数据相对规范的话是如下代码：\n",
        "writer=pd.ExcelWriter('excel name.xlsx') ##新建一个excel\n",
        "df.to_excel(writer,sheetName='dfName',startcol=,startrow=,...)\n",
        "writer.save()\n",
        "```\n"
      ],
      "metadata": {
        "id": "Yvx0IwoVRkPS"
      }
    },
    {
      "cell_type": "code",
      "execution_count": null,
      "metadata": {
        "id": "4duPYFWpYqsi"
      },
      "outputs": [],
      "source": []
    }
  ]
}